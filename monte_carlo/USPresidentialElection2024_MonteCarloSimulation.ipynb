{
  "nbformat": 4,
  "nbformat_minor": 0,
  "metadata": {
    "colab": {
      "provenance": []
    },
    "kernelspec": {
      "name": "python3",
      "display_name": "Python 3"
    },
    "language_info": {
      "name": "python"
    }
  },
  "cells": [
    {
      "cell_type": "markdown",
      "source": [
        "# 2024 U.S. Presidential Election: Chances of Winning"
      ],
      "metadata": {
        "id": "b54K3BSLbPL2"
      }
    },
    {
      "cell_type": "code",
      "source": [
        "# Define swing states with their electoral votes (ev)\n",
        "states = {'AZ': 11, 'GA': 16, 'MI': 15, 'NV': 6, 'NC': 16, 'PA': 19, 'WI': 10};\n",
        "\n",
        "# Define win probabilities, margins and, standard deviations for each of the 3 scenarios per swing state\n",
        "input = {\n",
        "    'latest': { # October 24, 2024\n",
        "        'AZ': {'1': {'prob_harris': 0.30, 'margin': -2.7, 'sd': 5.2},\n",
        "               '2': {'prob_harris': 0.26, 'margin': -4.0, 'sd': 6.3},\n",
        "               '3': {'prob_harris': 0.27, 'margin': -3.4, 'sd': 5.5}},\n",
        "\n",
        "        'GA': {'1': {'prob_harris': 0.43, 'margin': -1.1, 'sd': 6.0},\n",
        "               '2': {'prob_harris': 0.43, 'margin': -1.3, 'sd': 7.2},\n",
        "               '3': {'prob_harris': 0.43, 'margin': -1.2, 'sd': 6.4}},\n",
        "\n",
        "        'MI': {'1': {'prob_harris': 0.53, 'margin':  0.5, 'sd': 6.1},\n",
        "               '2': {'prob_harris': 0.29, 'margin': -4.1, 'sd': 7.3},\n",
        "               '3': {'prob_harris': 0.39, 'margin': -1.8, 'sd': 6.4}},\n",
        "\n",
        "        'NV': {'1': {'prob_harris': 0.58, 'margin':  0.8, 'sd': 4.3},\n",
        "               '2': {'prob_harris': 0.47, 'margin': -0.5, 'sd': 6.3},\n",
        "               '3': {'prob_harris': 0.51, 'margin':  0.1, 'sd': 4.9}},\n",
        "\n",
        "        'NC': {'1': {'prob_harris': 0.49, 'margin': -0.2, 'sd': 4.2},\n",
        "               '2': {'prob_harris': 0.20, 'margin': -4.7, 'sd': 5.6},\n",
        "               '3': {'prob_harris': 0.30, 'margin': -2.4, 'sd': 4.6}},\n",
        "\n",
        "        'PA': {'1': {'prob_harris': 0.61, 'margin':  1.3, 'sd': 5.0},\n",
        "               '2': {'prob_harris': 0.26, 'margin': -4.1, 'sd': 6.2},\n",
        "               '3': {'prob_harris': 0.40, 'margin': -1.4, 'sd': 5.3}},\n",
        "\n",
        "        'WI': {'1': {'prob_harris': 0.63, 'margin':  1.8, 'sd': 5.2},\n",
        "               '2': {'prob_harris': 0.26, 'margin': -4.4, 'sd': 6.8},\n",
        "               '3': {'prob_harris': 0.41, 'margin': -1.3, 'sd': 5.7}}\n",
        "    }\n",
        "}"
      ],
      "metadata": {
        "id": "keAuwtCviGHt"
      },
      "execution_count": 2,
      "outputs": []
    },
    {
      "cell_type": "markdown",
      "source": [
        "## **Version 1**: `random.random()`\n",
        "\n",
        "Based on probabilities from https://github.com/maxspeicher/2024-us-presidential-election, as of October 24, 2024"
      ],
      "metadata": {
        "id": "hJb2FbGFOLFn"
      }
    },
    {
      "cell_type": "code",
      "execution_count": 3,
      "metadata": {
        "colab": {
          "base_uri": "https://localhost:8080/"
        },
        "id": "_VR1Vq4hindK",
        "outputId": "5e4bd5a5-51c1-4c7b-c2ae-363a46e1e1a1"
      },
      "outputs": [
        {
          "output_type": "stream",
          "name": "stdout",
          "text": [
            "① Weighted high-quality polls\n",
            "===============================\n",
            "Harris's probability of winning: 59.10%\n",
            "Trump's probability of winning: 39.71%\n",
            "Probability of tie: 1.19%\n",
            "\n",
            "② With full 2016/20 polling error\n",
            "===============================\n",
            "Harris's probability of winning: 16.72%\n",
            "Trump's probability of winning: 82.06%\n",
            "Probability of tie: 1.23%\n",
            "\n",
            "③ With half 2016/20 polling error\n",
            "===============================\n",
            "Harris's probability of winning: 31.67%\n",
            "Trump's probability of winning: 67.01%\n",
            "Probability of tie: 1.32%\n",
            "\n"
          ]
        }
      ],
      "source": [
        "import random\n",
        "\n",
        "def run_election(scenario):\n",
        "    ev_total_harris = 0\n",
        "    ev_total_trump  = 0\n",
        "    for state, info in input['latest'].items():\n",
        "        # Simulate the election outcome for each state\n",
        "        if random.random() < info[scenario]['prob_harris']:\n",
        "            ev_total_harris += states[state]\n",
        "        else:\n",
        "            ev_total_trump += states[state]\n",
        "\n",
        "    return {'harris': ev_total_harris, 'trump': ev_total_trump}\n",
        "\n",
        "def monte_carlo_simulation(scenario, num_simulations=1000000):\n",
        "    ev_needed_harris = 270 - 226  # Electoral votes Harris needs from swing states to reach 270\n",
        "    ev_needed_trump  = 270 - 219  # Electoral votes Trump needs from swing states to reach 270\n",
        "    wins_harris = 0\n",
        "    wins_trump  = 0\n",
        "\n",
        "    for _ in range(num_simulations):\n",
        "        result = run_election(scenario)\n",
        "        wins_harris += (result['harris'] >= ev_needed_harris)\n",
        "        wins_trump  += (result['trump']  >= ev_needed_trump)\n",
        "\n",
        "    return {'harris': wins_harris / num_simulations, 'trump': wins_trump / num_simulations}\n",
        "\n",
        "# Run one Monte Carlo simulation for each scenario and print the probabilities of winning/tie\n",
        "scenarios = {\n",
        "    '1': '① Weighted high-quality polls',\n",
        "    '2': '② With full 2016/20 polling error',\n",
        "    '3': '③ With half 2016/20 polling error'\n",
        "}\n",
        "\n",
        "for scenario in ['1','2','3']:\n",
        "  win_probability = monte_carlo_simulation(scenario)\n",
        "  print(f\"{scenarios[scenario]}\\n===============================\")\n",
        "  print(f\"Harris's probability of winning: {win_probability['harris']:.2%}\")\n",
        "  print(f\"Trump's probability of winning: {win_probability['trump']:.2%}\")\n",
        "  print(f\"Probability of tie: {(1-win_probability['trump']-win_probability['harris']):.2%}\\n\")"
      ]
    },
    {
      "cell_type": "markdown",
      "source": [
        "---\n",
        "\n",
        "## **Version 2**: `np.random.normal(...)`\n",
        "\n",
        "Based on polling margins and standard deviations from https://github.com/maxspeicher/2024-us-presidential-election, as of October 24, 2024"
      ],
      "metadata": {
        "id": "pHz-i_7yR_K_"
      }
    },
    {
      "cell_type": "code",
      "source": [
        "import random\n",
        "import numpy as np\n",
        "\n",
        "def run_election(scenario):\n",
        "    ev_total_harris = 0\n",
        "    ev_total_trump  = 0\n",
        "    for state, info in input['latest'].items():\n",
        "        # Generate random result based on average margin and standard deviation\n",
        "        result = np.random.normal(info[scenario]['margin'], info[scenario]['sd'])\n",
        "\n",
        "        # Determine winner of the state\n",
        "        if result > 0:\n",
        "            ev_total_harris += states[state]\n",
        "        elif result < 0:\n",
        "            ev_total_trump += states[state]\n",
        "\n",
        "    return {'harris': ev_total_harris, 'trump': ev_total_trump}\n",
        "\n",
        "def monte_carlo_simulation(scenario, num_simulations=1000000):\n",
        "    ev_needed_harris = 270 - 226  # Electoral votes Harris needs from swing states to reach 270\n",
        "    ev_needed_trump  = 270 - 219  # Electoral votes Trump needs from swing states to reach 270\n",
        "    wins_harris = 0\n",
        "    wins_trump  = 0\n",
        "\n",
        "    for _ in range(num_simulations):\n",
        "        result = run_election(scenario)\n",
        "        wins_harris += (result['harris'] >= ev_needed_harris)\n",
        "        wins_trump  += (result['trump']  >= ev_needed_trump)\n",
        "\n",
        "    return {'harris': wins_harris / num_simulations, 'trump': wins_trump / num_simulations}\n",
        "\n",
        "# Run one Monte Carlo simulation for each scenario and print the probabilities of winning/tie\n",
        "scenarios = {\n",
        "    '1': '① Weighted high-quality polls',\n",
        "    '2': '② With full 2016/20 polling error',\n",
        "    '3': '③ With half 2016/20 polling error'\n",
        "}\n",
        "\n",
        "for scenario in ['1','2','3']:\n",
        "  win_probability = monte_carlo_simulation(scenario)\n",
        "  print(f\"{scenarios[scenario]}\\n===============================\")\n",
        "  print(f\"Harris's probability of winning: {win_probability['harris']:.2%}\")\n",
        "  print(f\"Trump's probability of winning: {win_probability['trump']:.2%}\")\n",
        "  print(f\"Probability of tie: {(1-win_probability['trump']-win_probability['harris']):.2%}\\n\")"
      ],
      "metadata": {
        "colab": {
          "base_uri": "https://localhost:8080/"
        },
        "id": "rq0GQu6dSBH9",
        "outputId": "965da48e-5e92-4daf-9652-be13c8f70f30"
      },
      "execution_count": 4,
      "outputs": [
        {
          "output_type": "stream",
          "name": "stdout",
          "text": [
            "① Weighted high-quality polls\n",
            "===============================\n",
            "Harris's probability of winning: 58.42%\n",
            "Trump's probability of winning: 40.40%\n",
            "Probability of tie: 1.18%\n",
            "\n",
            "② With full 2016/20 polling error\n",
            "===============================\n",
            "Harris's probability of winning: 16.49%\n",
            "Trump's probability of winning: 82.28%\n",
            "Probability of tie: 1.23%\n",
            "\n",
            "③ With half 2016/20 polling error\n",
            "===============================\n",
            "Harris's probability of winning: 31.23%\n",
            "Trump's probability of winning: 67.42%\n",
            "Probability of tie: 1.35%\n",
            "\n"
          ]
        }
      ]
    }
  ]
}